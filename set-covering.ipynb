{
 "cells": [
  {
   "cell_type": "code",
   "execution_count": 16,
   "metadata": {},
   "outputs": [],
   "source": [
    "from collections import namedtuple\n",
    "import numpy as np\n",
    "from random import random\n",
    "from queue import PriorityQueue\n",
    "from functools import reduce\n",
    "\n",
    "PROBLEM_SIZE = 10\n",
    "NUM_SETS = 16\n",
    "\n",
    "SETS = tuple([np.array([random() < .2 for _ in range(PROBLEM_SIZE)]) for _ in range(NUM_SETS)])\n",
    "\n",
    "State = namedtuple('State', ['taken', 'untaken'])\n",
    "\n",
    "def goal_check(state):\n",
    "    return np.all(reduce(np.logical_or,[SETS[i] for i in state.taken], False))"
   ]
  },
  {
   "cell_type": "markdown",
   "metadata": {},
   "source": [
    "A state is the set of elements taken + the set of element not taken\n",
    "one possible state => ({1,3,5} , {0,2,4,5,7})\n",
    "sets[i] for i in state[0] are the taken elements in our sets\n",
    "Then I need a way to test if the actual state is the goal one:\n",
    "    looking at the taken elements and then checking if we have take all the elements with a bitwise OR\n",
    "First of all we check if the problem is solvable"
   ]
  },
  {
   "cell_type": "code",
   "execution_count": 15,
   "metadata": {},
   "outputs": [
    {
     "ename": "AttributeError",
     "evalue": "'tuple' object has no attribute 'taken'",
     "output_type": "error",
     "traceback": [
      "\u001b[0;31m---------------------------------------------------------------------------\u001b[0m",
      "\u001b[0;31mAttributeError\u001b[0m                            Traceback (most recent call last)",
      "\u001b[1;32m/home/alessandro/Codice/Computational/provaPython/set-covering.ipynb Cella 3\u001b[0m line \u001b[0;36m1\n\u001b[0;32m----> <a href='vscode-notebook-cell://wsl%2Bubuntu/home/alessandro/Codice/Computational/provaPython/set-covering.ipynb#W2sdnNjb2RlLXJlbW90ZQ%3D%3D?line=0'>1</a>\u001b[0m \u001b[39massert\u001b[39;00m goal_check((\u001b[39mset\u001b[39;49m(\u001b[39mrange\u001b[39;49m(NUM_SETS)),\u001b[39mset\u001b[39;49m())), \u001b[39m\"\u001b[39m\u001b[39mGoal check failed\u001b[39m\u001b[39m\"\u001b[39m\n",
      "\u001b[1;32m/home/alessandro/Codice/Computational/provaPython/set-covering.ipynb Cella 3\u001b[0m line \u001b[0;36m1\n\u001b[1;32m     <a href='vscode-notebook-cell://wsl%2Bubuntu/home/alessandro/Codice/Computational/provaPython/set-covering.ipynb#W2sdnNjb2RlLXJlbW90ZQ%3D%3D?line=13'>14</a>\u001b[0m \u001b[39mdef\u001b[39;00m \u001b[39mgoal_check\u001b[39m(state):\n\u001b[0;32m---> <a href='vscode-notebook-cell://wsl%2Bubuntu/home/alessandro/Codice/Computational/provaPython/set-covering.ipynb#W2sdnNjb2RlLXJlbW90ZQ%3D%3D?line=14'>15</a>\u001b[0m     \u001b[39mreturn\u001b[39;00m np\u001b[39m.\u001b[39mall(reduce(np\u001b[39m.\u001b[39mlogical_or,[SETS[i] \u001b[39mfor\u001b[39;00m i \u001b[39min\u001b[39;00m state\u001b[39m.\u001b[39;49mtaken], \u001b[39mFalse\u001b[39;00m))\n",
      "\u001b[0;31mAttributeError\u001b[0m: 'tuple' object has no attribute 'taken'"
     ]
    }
   ],
   "source": [
    "assert goal_check(State(set(range(NUM_SETS)),set())), \"Goal check failed\""
   ]
  },
  {
   "cell_type": "markdown",
   "metadata": {},
   "source": [
    "Then we need to define the frontier and put the initial state"
   ]
  },
  {
   "cell_type": "code",
   "execution_count": null,
   "metadata": {},
   "outputs": [],
   "source": [
    "frontier = PriorityQueue()\n",
    "frontier.put(State(set(),set(range(NUM_SETS))))\n",
    "current_state = frontier.get()\n",
    "while not goal_check(current_state):\n",
    "    for action in current_state.untaken:\n",
    "        new_state = State(current_state.taken.union({action}),current_state.untaken.difference({action}))\n",
    "        frontier.put(new_state)\n",
    "    current_state = frontier.get()\n",
    "assert goal_check(current_state), \"Goal check failed\""
   ]
  },
  {
   "cell_type": "markdown",
   "metadata": {},
   "source": [
    "Now write the REAL solution with working priority queue -> Dijkstra algorithm with smaller first"
   ]
  }
 ],
 "metadata": {
  "kernelspec": {
   "display_name": ".virtual",
   "language": "python",
   "name": "python3"
  },
  "language_info": {
   "codemirror_mode": {
    "name": "ipython",
    "version": 3
   },
   "file_extension": ".py",
   "mimetype": "text/x-python",
   "name": "python",
   "nbconvert_exporter": "python",
   "pygments_lexer": "ipython3",
   "version": "3.10.12"
  },
  "orig_nbformat": 4
 },
 "nbformat": 4,
 "nbformat_minor": 2
}
