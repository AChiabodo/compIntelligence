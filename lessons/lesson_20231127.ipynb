{
 "cells": [
  {
   "cell_type": "markdown",
   "metadata": {},
   "source": [
    "## Adversarial Search and Games\n",
    "Usually games are easy to formalize and can be good models for real-world problems with competitive (or cooperative) activities.  \n",
    "Games are also a good testbench for AI methods.  \n",
    "The main goal is to find an **optimal policy** for the agent. The policy can be seen as a \"black box\" that takes the current state as input and returns the action to be taken. Another possible goal is to find the **optimal ply** for each state.  \n",
    "*Ply* : how to move in response to a move by the opponent.   \n",
    "We can have different types of games:  \n",
    "- **Deterministic games**: the next state is completely determined by the current state and the action taken by the agent. The agent can always know the next state. For example Chess.\n",
    "- **Probabilistic games**: the next state is determined by the current state, the action taken by the agent and a random event. The agent cannot always know the next state. For example Backgammon or Poker.\n",
    "- **Real Time** : the agent has a limited amount of time to decide the action to take. For example FPS games.\n",
    "- **Turn based** : the agent has unlimited time to decide the action to take. For example Chess.\n",
    "- **Perfect information** : the agent knows the complete state of the game. For example Chess.\n",
    "- **Imperfect information** : the agent does not know the complete state of the game. For example Poker.\n",
    "- **Zero-sum** : the gain of one player is the loss of the other player. For example Chess.\n",
    "- **Non-zero-sum** : the gain of one player is not the loss of the other player. For example Soccer.  \n",
    "Chess is a deterministic, turn based, perfect information, zero-sum game.\n",
    "Poker is a probabilistic, turn based, imperfect information, zero-sum game.\n",
    "Nuclear war is a probabilistic, real time, imperfect information, non-zero-sum game. (also marriage)\n",
    "\n",
    "There are many difference between games and search problems:\n",
    "- We don't know how the opponent will play. The goal / solution in a game is to find the perfect strategy (policy) to win the game. In a search problem we know the goal and we want to find the optimal path to reach it.\n",
    "- Efficiency is important in games. We need to find the best move in a limited amount of time. But also, branching factor is usually higher in games than in search problems (pruning is much more important in games than in search, for example avoiding all moves that I know being useless).\n",
    "\n",
    "#### Deterministic games\n",
    "We have a certain number of players, a set of states (how we represent a certain situation), a set of possible actions, a transition model, a terminal test and a utility function. \n",
    "For terminal states we use the terminal test/function to do a static evaluation of the state to know if we've win or not.\n",
    "We can define a **game tree** as a tree where each node is a state and each edge is an action. The root is the initial state and the leaves are the terminal states.  \n",
    "We can imagine that the root is the current state after my move and the first layer are the possible moves that my opponent can made. The second layer are the possible moves that I can made after the opponent move and so on.\n",
    "An example can be with tic-tac-toe. The root is the empty board, the first layer are the possible moves that the first player can made, the second layer are the possible moves that the second player can made after the first player move and so on.  \n",
    "In the tic-tac-toe example our strategy that wants to maximize the win probability would be to start with one of the corner cells. In this case starting second after a \"perfect\" strategy we would be unable to win, but only to draw by blocking every move of our opponent.\n",
    "\n",
    "#### Minimax algorithm\n",
    "One of the most famous algorithm for games is the minimax algorithm. It's used to **minimize the maximum loss** in a loosing scenario.  \n",
    "Remember that maximizing our chances of winning and minimizing the loss are **NOT** the same thing.  \n",
    "In a so-called MinMax game, the two players are called **Max** and **Min**.  \n",
    "In each state, Max will choose the action that maximizes the utility function and Min will choose the action that minimizes the utility function. \n",
    "A possible implementation is based on a recursive approach with a sign-flip at each level, in this way we're always \"maximizing\" our function.  \n",
    "It's a complete strategy only if the tree is finite, is optimal only against an optimal opponent and is optimal only if the opponent is playing to win. The complexity is $ O(b^m) $ in time and $ O(b*m) $ in space where b is the branching factor and m is the maximum depth of the tree.  \n",
    "\n",
    "We can rewrite the classic tic-tac-toe game as a \"Pick 3 numbers whose sum is 12\" game. In this way is easier to see the game tree and to find if a state is winning or not. This is also a good example of how is possible to transform a problem into an easier one simply by changing the representation of the problem. \n",
    "```python\n",
    "def won(cells):\n",
    "    return any([sum(cells[i] for i in combo) == 12 for combo in combos])\n",
    "def minmax(board):\n",
    "    ...\n",
    "```\n",
    "To handle games with *more than two players*, we can also using the minmax algorithm just with more layers (and a change in the sign-flip).  \n",
    "The state space of a game usually is HUGE, for example chess has $ 10^{120} $ possible states. In this case the MinMax algorithm is not feasible.   \n",
    "#### Alpha-Beta pruning\n",
    "To avoid to explore the entire tree we can use a technique called **Alpha-Beta pruning**. \"If you have an idea that is surely bad, don't waste time to see how bad it is\". In this way we can avoid to explore some branches of the tree that cointain only \"bad\" (or useless) states.  \n"
   ]
  }
 ],
 "metadata": {
  "language_info": {
   "name": "python"
  }
 },
 "nbformat": 4,
 "nbformat_minor": 2
}
