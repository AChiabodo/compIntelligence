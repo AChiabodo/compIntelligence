{
 "cells": [
  {
   "cell_type": "markdown",
   "metadata": {},
   "source": [
    "### Promoting Diversity in Evolutionary Algorithms\n",
    "Principal problem in evolutionary algorithm : **diversity**.\n",
    "- Diversity is the key to the success of evolutionary algorithms.\n",
    "Divergence of character between nature (darwinian evolution) and artificial evolution (genetic algorithm).\n",
    "In darwinian evolution we have a lot of diversity, at some point different species are created that are unable to mate between them. Here we've *divergence*. \n",
    "In evolutionary algorithm we \"only\" have three phases: initialization, breeding and \"slaughtering\"(selection). This is aimed to optimization and not specifically on survival.\n",
    "Our goal in EA is to make the population to converge to the best solution. A possible problem is represented by **premature convergence**, that is when the population converges to a \"local optimum\" and not to the global one, that could be caused by a *lack of diversification* in the population. Also called by Holland \"Lack of Speciation\".\n",
    "The basic point of divergence is simplicity by itself : The more difference between individual we have, the less they will compete for the same resources.\n",
    "**Niches** : subspace of the environment with a finite amount of resources where different species can survive. They favor the differentiation of individuals. \n",
    "How can we create artificial niches?\n",
    "Breeding in EA is based on two different actions: recombination and mutation.\n",
    " - recombination : Union of two or more individuals to create a new one. It's associated with exploration.\n",
    " - mutation : Random changes of a single individual. It's associated with exploitation.\n",
    "Different Levels in biology are:\n",
    " - **Genotype** : The genetic information of an individual. It's the set of genes that compose the individual.\n",
    " - Phenotypes\n",
    " - Fitness\n",
    "A way to create niches in EA is to group similar individuals in the same niche. They can have similar genotype, phenotype or spatial position.\n",
    "We can have implicit or explicit niching.\n",
    " - *Implicit* niching : We suppose that the *direct offspring* of an individual will be similar to the parent. We can use a fitness sharing function to penalize individuals that are too similar to others.\n",
    " - *Explicit* niching : We know the niche of an individual.\n",
    "Detecting identical individual (*clones*) is usually an easy task\n",
    "Detecting similar (but non identical) individuals is a difficult task. We need a way to measure the difference between individuals. \n",
    "The diversity is a property inside our population. We can measure it with a diversity function. We can have high or low diversity inside our pop.\n",
    "    - High diversity : We have a lot of different individuals.\n",
    "    - Low diversity : We have a lot of similar individuals.\n",
    "Usually if two individuals have the same fitness, they can have rally similar genotype. But when we have just small differences in the fitness, we can have a big or small difference at genotype level, depends on the locality of the problem. Looking only at the fitness is not enough to measure the diversity.\n",
    "Another possibility is to compare the *phenotype* of two individuals, but usually the phenotype is really problem-specific and thus the comparison can be difficult and needs to be recomputed from scratch every time.\n",
    "The last possibility is to compare *genotypes* (like the frequency of a gene in the population). This is the most used method. A possible way to compare two individuals is to use the *Edit Distance* (also called Levenshtein distance) that is the minimum number of operations (insertion, deletion, substitution) to transform one string into another. This is a good method but it's *really expensive to compute*. An easier way can be to use the number genes that differs between two individuals.\n",
    "A last way is to measure the entropy of the genotype. For each individual we can measure if the entropy should increase or not by adding/removing it from the population.\n",
    "### Mechanism to improve the diversity\n",
    "First of all we want to improve diversity because our *final goal* is to find an optimal solution and increasing the number of different individual can improve the quality of our result\n",
    "We have at our disposal a number of different techiniques to improve the diversity in our population (we'll se them as a *corrective factor* in the selection probability for individual X even if not all techniques work in that way).\n",
    "Relevant characteristic used for\n",
    " - Lineage : we're not looking neither at the phenotype nor at the genotype but at the *history* of the individual.\n",
    " - Genotype\n",
    " - Phenotype\n",
    " - Fitness : Only used as a proxy for the either genotype or Phenotype.\n",
    "Lienage-based methodologies: The value of X(.) does not depend on individual structure or behaviour\n",
    "Genotype-based methodologies: The value of X(.) depends on the individual structure. Particularly effective when is easy to compute the distance between two genotypes. Used to avois over-representation of some genotypes that exploits peaks in the fitness landscape.\n",
    "Phenotype-based methodologies: The value of X(.) depends on the individual behaviour. Usually impractical in real-world problems.\n",
    "We can have two different selections in EA : \n",
    " - *Parent selection* : We select the parents that will be used to create the offspring. usually non-deterministic\n",
    " - *Survivor selection* : We select the individuals that will survive to the next generation. Usually deterministic.\n",
    " #### Island Model\n",
    " Instead of having one big population, we can image to have more smaller sub-populations where only local interactions are allowed. Periodically we have **migrations** of one or more individuals between the sub-populations. This is a way to improve the diversity in our population. \n",
    " In this way different sub-populations can converge to different local optima and the migrants allows other populations to have more diversity."
   ]
  }
 ],
 "metadata": {
  "language_info": {
   "name": "python"
  }
 },
 "nbformat": 4,
 "nbformat_minor": 2
}
