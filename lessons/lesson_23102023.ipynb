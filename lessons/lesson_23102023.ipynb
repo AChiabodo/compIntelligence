{
 "cells": [
  {
   "cell_type": "markdown",
   "metadata": {},
   "source": [
    "### Single state methods\n",
    "In this type of problems we only consider the states in the final solution and don't care at all about the path (the order of sets in the solution)\n",
    "With single state methods we don't care at all \"how\" we find a solution, we only care about the solution itself. Set covering problems are an example of this type of problems.\n",
    "Usually we'll start from a state (maybe also illegal) and keep exploring the neighbour states until we find a solution. We iteratively improve the state while searching for a solution.\n",
    "We'll need to find a function able to \"tweak\" only a bit the current state in order to explore the neighbour states. The \"tree\" in this case is imposed by the algorithm and not by the problem.\n",
    "Starting from the starting state we apply the *tweak* function to alter it and obtain a new state. We then evaluate the new state and decide if we want to keep it or not. If we keep it we'll apply the *tweak* function again and so on until we find a solution.\n",
    "Comparing to A* where we have a certain \"direction\", here we're just \"wandering around\" until we find a solution.\n",
    "### Hill climbing\n",
    "Hill climbing is a single state method where I search for a solution by tweaking the current state. Really similar to a *gradient ascend* but without the needing of a gradient. Then I can decide to keep the new state or not. If I keep it I'll apply the tweak function again and so on until I find a solution.\n",
    "We can have different types of climbing:\n",
    "- *random hill climbing* algorithm where we tweak the current state in a random way.\n",
    "- *steepest ascent hill climbing* algorithm where we tweak the current state in the best way possible.\n",
    "Extremely fast and easy to implement but it's not guaranteed to find a solution. It's also very sensitive to the starting state.\n",
    "``` python\n",
    "S = initial_state\n",
    "while not is_solution(S):\n",
    "    temp = tweak(S)\n",
    "    if evaluate(temp) > evaluate(S):\n",
    "        S = temp\n",
    "```\n",
    "Is important to define good evaluate and tweak functions. "
   ]
  },
  {
   "cell_type": "code",
   "execution_count": 16,
   "metadata": {},
   "outputs": [
    {
     "data": {
      "text/plain": [
       "(False, 0)"
      ]
     },
     "execution_count": 16,
     "metadata": {},
     "output_type": "execute_result"
    }
   ],
   "source": [
    "import numpy as np\n",
    "from random import random\n",
    "from functools import reduce\n",
    "NUM_SETS = 16\n",
    "\n",
    "PROBLEM_SIZE = 10\n",
    "\n",
    "SETS = tuple([np.array([random() < .2 for _ in range(PROBLEM_SIZE)]) for _ in range(NUM_SETS)])\n",
    "\n",
    "def evaluate(state):\n",
    "        return np.all(\n",
    "                reduce(\n",
    "                        np.logical_or,[SETS[i] for i,t in enumerate(state) if t],  \n",
    "                       np.array([False for _ in range(PROBLEM_SIZE)]))) , sum(state)\n",
    "current_state = [False for _ in range(PROBLEM_SIZE)]\n",
    "evaluate(current_state)"
   ]
  },
  {
   "cell_type": "code",
   "execution_count": 17,
   "metadata": {},
   "outputs": [
    {
     "name": "stdout",
     "output_type": "stream",
     "text": [
      "[False, True, False, False, True, False, False, True, True, False]\n",
      "(False, 5)\n",
      "[False, True, False, False, True, True, False, True, True, False]\n",
      "(False, 6)\n",
      "[False, True, False, False, True, True, True, True, True, False]\n",
      "(True, 7)\n",
      "[False, True, True, False, True, True, True, True, True, False]\n",
      "(True, 8)\n",
      "[False, True, True, True, True, True, True, True, True, False]\n",
      "(True, 9)\n",
      "[False, True, True, True, True, True, True, True, True, True]\n",
      "(True, 10)\n",
      "[True, True, True, True, True, True, True, True, True, True]\n"
     ]
    }
   ],
   "source": [
    "from copy import copy\n",
    "from random import choice , randint\n",
    "current_state = [choice([True,False]) for _ in range(PROBLEM_SIZE)]\n",
    "print(current_state)\n",
    "evaluate(current_state)\n",
    "def tweak(state):\n",
    "    new_state = copy(state)\n",
    "    index = randint(0,PROBLEM_SIZE-1)\n",
    "    new_state[index] = not new_state[index]\n",
    "    return new_state\n",
    "\n",
    "for step in range(100):\n",
    "    new_state = tweak(current_state)\n",
    "    if evaluate(new_state) > evaluate(current_state):\n",
    "        current_state = new_state\n",
    "        print(evaluate(current_state))\n",
    "        print(current_state)"
   ]
  }
 ],
 "metadata": {
  "kernelspec": {
   "display_name": ".virtual",
   "language": "python",
   "name": "python3"
  },
  "language_info": {
   "codemirror_mode": {
    "name": "ipython",
    "version": 3
   },
   "file_extension": ".py",
   "mimetype": "text/x-python",
   "name": "python",
   "nbconvert_exporter": "python",
   "pygments_lexer": "ipython3",
   "version": "3.10.12"
  }
 },
 "nbformat": 4,
 "nbformat_minor": 2
}
