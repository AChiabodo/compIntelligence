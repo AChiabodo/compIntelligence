{
 "cells": [
  {
   "cell_type": "markdown",
   "metadata": {},
   "source": [
    "### Types of Fitness Landscapes\n",
    "- **Rugged** - many local optima\n",
    "- **Smooth** - one global optimum\n",
    "- **Deceptive** - local optima are more fit than global optimum, tries to trick you\n",
    "\n",
    "### Classic Benchmark Functions\n",
    "- **One Max** - the goal of this problem is to maximize the number of ones in a bit string and the fitness fn is the sum of ones in the string. It's a smooth landscape and very easy to solve : Unimodal, separable and not deceptive at all. Can give some insight into the performance of an algorithm if we follow the selection of the various individual.\n",
    "- **Knapsack Problem** - the goal of this problem is to maximize the value of items in a knapsack without exceeding the weight limit. We can have different variations of this problem, **multidimensional knapsack** (we have also constrain on the size of items), bounded knapsack, unbounded knapsack, etc. It's a rugged landscape and very hard to solve : multimodal, non-separable and deceptive. It's a good benchmark for testing the performance of an algorithm.\n",
    "- **Set Covering Problem** - the goal of this problem is to minimize the number of sets needed to cover all the elements in a set.\n",
    "- **15 Puzzle** - Classical problem that involves 15 sliding tiles in a 4x4 grid (one left void). The goal is to reach the goal state from a random state. A possible fitness function is the number of tiles in the correct position. \n",
    "- **Rastrign Function** - the goal of this problem is to minimize this non-convex function, typical benchmark used for evolutionary strategies.\n",
    "\n",
    "### Representation\n",
    "- **fitness** - how well a candidate solution is able to solve the problem. Usually is one of the most difficult part to define in a problem.\n",
    "A bad fitness can void the differential survival (the different chances of survival of the candidate solutions) and the parent selection in our problem.\n",
    "- **Genotype** - the internal representation of the candidate solution and which is directly manipulated by the genetic operators. It's usually a bit string, but it can be also a tree, a graph, a vector, etc. Usually is transformed in order to compute the fitness.\n",
    "- **Phenotype** - the external representation of the candidate solution and which is directly evaluated by the fitness function. It's usually the same as the genotype, but it can be also different. For example, in the case of the 15 puzzle, the genotype is a bit string, but the phenotype is a 4x4 grid. Or in an expression we can have a *tree* as genotype and a *mathematical expression* as phenotype.\n",
    "When we can have multiple Genotypes mapped to the same Phenotype, we have an **indirect**, and we can also have multiple Phenotypes mapped to the same fitness value.\n",
    " "
   ]
  }
 ],
 "metadata": {
  "language_info": {
   "name": "python"
  }
 },
 "nbformat": 4,
 "nbformat_minor": 2
}
