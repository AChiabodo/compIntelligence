{
 "cells": [
  {
   "cell_type": "markdown",
   "metadata": {},
   "source": [
    "### Single state methods\n",
    "In this type of problems we only consider the states in the final solution and don't care at all about the path (the order of sets in the solution)\n",
    "With single state methods we don't care at all \"how\" we find a solution, we only care about the solution itself. Set covering problems are an example of this type of problems.\n",
    "Usually we'll start from a state (maybe also illegal) and keep exploring the neighbour states until we find a solution. We iteratively improve the state while searching for a solution.\n",
    "We'll need to find a function able to \"tweak\" only a bit the current state in order to explore the neighbour states. The \"tree\" in this case is imposed by the algorithm and not by the problem.\n",
    "Starting from the starting state we apply the *tweak* function to alter it and obtain a new state. We then evaluate the new state and decide if we want to keep it or not. If we keep it we'll apply the *tweak* function again and so on until we find a solution.\n",
    "Comparing to A* where we have a certain \"direction\", here we're just \"wandering around\" until we find a solution.\n",
    "### Hill climbing\n",
    "Hill climbing is a single state method where I search for a solution by tweaking the current state. Really similar to a *gradient ascend* but without the needing of a gradient. Then I can decide to keep the new state or not. If I keep it I'll apply the tweak function again and so on until I find a solution.\n",
    "We can have different types of climbing:\n",
    "- *random hill climbing* algorithm where we tweak the current state in a random way.\n",
    "- *steepest ascent hill climbing* algorithm where we tweak the current state in the best way possible.\n",
    "Extremely fast and easy to implement but it's not guaranteed to find a solution. It's also very sensitive to the starting state.\n",
    "``` python\n",
    "S = initial_state\n",
    "while not is_solution(S):\n",
    "    temp = tweak(S)\n",
    "    if evaluate(temp) > evaluate(S):\n",
    "        S = temp\n",
    "```\n",
    "Is important to define good evaluate and tweak functions. "
   ]
  },
  {
   "cell_type": "code",
   "execution_count": null,
   "metadata": {},
   "outputs": [],
   "source": [
    "import numpy as np\n",
    "from random import random\n",
    "from functools import reduce\n",
    "NUM_SETS = 16\n",
    "\n",
    "PROBLEM_SIZE = 10\n",
    "\n",
    "SETS = tuple([np.array([random() < .2 for _ in range(PROBLEM_SIZE)]) for _ in range(NUM_SETS)])\n",
    "\n",
    "def evaluate(state):\n",
    "        return np.all(\n",
    "                reduce(\n",
    "                        np.logical_or,[SETS[i] for i,t in enumerate(state) if t],  \n",
    "                       np.array([False for _ in range(PROBLEM_SIZE)]))) , sum(state)\n",
    "current_state = [False for _ in range(PROBLEM_SIZE)]\n",
    "evaluate(current_state)"
   ]
  },
  {
   "cell_type": "code",
   "execution_count": null,
   "metadata": {},
   "outputs": [],
   "source": [
    "from copy import copy\n",
    "from random import choice , randint\n",
    "current_state = [choice([True,False]) for _ in range(PROBLEM_SIZE)]\n",
    "print(current_state)\n",
    "evaluate(current_state)\n",
    "def tweak(state):\n",
    "    new_state = copy(state)\n",
    "    index = randint(0,PROBLEM_SIZE-1)\n",
    "    new_state[index] = not new_state[index]\n",
    "    return new_state\n",
    "\n",
    "for step in range(100):\n",
    "    new_state = tweak(current_state)\n",
    "    if evaluate(new_state) > evaluate(current_state):\n",
    "        current_state = new_state\n",
    "        print(evaluate(current_state))\n",
    "        print(current_state)"
   ]
  },
  {
   "cell_type": "markdown",
   "metadata": {},
   "source": [
    "### \n",
    "We have different options for stopping our algorithm:\n",
    "- Best solution found -> in most cases is really hard to know the optimal solution\n",
    "- Total number of Evaluations -> \n",
    "- Total number of steps -> \n",
    "- \n",
    "\n",
    "### Simulated Annealing\n",
    "The basic idea is that I'm able to accept a worsening solution on a certain probability, if the new state \n",
    "The probability depends on:\n",
    "    - *quality* : we'll accept more easily a solution that is only a bit worse than the current. A really worse solution won't be selected\n",
    "    - *temperature* : at the start of the algorithm we're \"hot\" and could prefer to move more even to worse solution. In the end we'll try to walk only to better solution\n",
    "Schedule : the rate at which the temperature is decreasing"
   ]
  }
 ],
 "metadata": {
  "kernelspec": {
   "display_name": ".virtual",
   "language": "python",
   "name": "python3"
  },
  "language_info": {
   "codemirror_mode": {
    "name": "ipython",
    "version": 3
   },
   "file_extension": ".py",
   "mimetype": "text/x-python",
   "name": "python",
   "nbconvert_exporter": "python",
   "pygments_lexer": "ipython3",
   "version": "3.11.6"
  }
 },
 "nbformat": 4,
 "nbformat_minor": 2
}
