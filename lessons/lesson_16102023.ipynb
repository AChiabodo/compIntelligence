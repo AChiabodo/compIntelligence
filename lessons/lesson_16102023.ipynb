{
 "cells": [
  {
   "cell_type": "markdown",
   "metadata": {},
   "source": [
    "There are two different types of algorithm for path searching :\n",
    " - Uninformed strategies : Don't know anything about the solution\n",
    " - Informed Strategies : Are able to evaluate the distance and/or the direction of the solution\n",
    "In a solution space we have two different types of nodes : Already analized nodes (the ones already discovered and analized by the algorithm) and the not analized nodes -> are the Frontier of \n",
    "*Complete algorithm* : verifies all the possible outcomes of a certain problem.\n",
    "We can analize the Frontier nodes in the same order that we discover them (breadth first) or\n",
    " - *breadth first* -> starting from the root node we expand it and the its children. Is complete only if the branching factor in not infinite. The frontier is implemented as a queue (FIFO). Can also be seen as Dijkstra but with always the same cost\n",
    " - *dept first* -> expand recursively the current node and then pass to its first child. Is complete only if the dept is limited. The frontier is implemented as a stack (LIFO).\n",
    " - *beam search* -> NOT complete. Can be implemented as breadth-first but with a limited number of nodes in the frontier. The frontier is implemented as a queue (FIFO).\n",
    " - *uniform-cost* -> Similar to breadth-first but we expand first the point in the frontier with the minimum *cost*. If all the costs are the same is equal to breadth-first, with different costs is called *Dijkstra's algorithm*. The frontier is implemented as a priority queue based on the distance from the root.\n",
    "To optimize an algorithm we could use some \"meta\" information to set a boundary to our algorithm. For example trying to find a sequence of positive integer numbers that sums up to 15, if in a branch we obtain n>15 we can stop analizing that branch and pass on to the next.\n",
    "By implementing all these algorithm with a *priority queue* we are able to switch algorithm simply by tweaking the implementation of the queue"
   ]
  },
  {
   "cell_type": "markdown",
   "metadata": {},
   "source": [
    "Informed Path Searching\n",
    "I already have an \"idea\" of what is the expected distance from the goal node.\n",
    " - *greedy best-first* -> expand the node that we expect to be the closest to the goal node. Is not complete and not optimal. Can be problematic if we have a \"barrier\" between the start and the goal node. The priority queue can be based on the expected distance from the goal node. Is not garanteed to find the optimal solution. Founding the \"euristic\" function able to compute the expected distance from the goal node is not trivial and can be the main challenge for this algorithm. A basic function could be the *distance* from the goal node but it is not always the best choice.\n",
    " ```python\n",
    "    def f(state):\n",
    "        missing_size = PROBLEM_SIZE - sum(covered(state))\n",
    "        return missing_size\n",
    " ```\n",
    " - *A\\* search* -> expand the node that we expect to be the closest to the goal node but also taking into account the distance from the root node. Is complete and optimal. The priority queue can be based on the expected distance from the goal node + the distance from the root node.\n",
    " Is a best-first approach but using the function *f(n) = g(n) + h(n)* where g(n) is the distance from the root node (cost) and h(n) is the expected distance from the goal node. The priority queue can be based on the expected distance from the goal node + the distance from the root node. It can be demonstrated to be *complete* and *optimally efficient*. The main problem is that the euristic function is not always easy to find and can be computationally expensive. The euristic function must be *admissible* (*never overestimate* the distance from the goal node) and *consistent* (the distance from the goal node of a node is always less or equal to the distance from the goal node of its children + the distance from the node to its children). If the euristic function is consistent the algorithm is optimal. NB the search space must be a *tree* (no cycles and not necessary to save the tree) and the cost of each edge must be positive. \n",
    "```python\n",
    "    def h(state):\n",
    "        already_covered = covered(state)\n",
    "        largest_set_size = max(sum(np.logical_and(s, np.logical_not(already_covered))) for s in SETS)\n",
    "        missing_size = PROBLEM_SIZE - sum(already_covered)\n",
    "        optimistic_estimate = ceil(missing_size / largest_set_size)\n",
    "        return optimistic_estimate\n",
    "```\n"
   ]
  }
 ],
 "metadata": {
  "kernelspec": {
   "display_name": ".virtual",
   "language": "python",
   "name": "python3"
  },
  "language_info": {
   "name": "python",
   "version": "3.10.12"
  }
 },
 "nbformat": 4,
 "nbformat_minor": 2
}
