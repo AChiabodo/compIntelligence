{
 "cells": [
  {
   "cell_type": "markdown",
   "metadata": {},
   "source": [
    "### Knowledge-Based Agents\n",
    "Instead of just reacting to the environment (like the reflex-based agents), knowledge-based agents have an internal representation of the world that they can use to make decisions.  \n",
    "This internal representation is called a **knowledge base** which is a set of representations of facts in the world. Each individual representation is called **sentence** and is expressed in a **knowledge representation language**. The knowledge base is used by the agent to infer new sentences that can be used to make decisions.\n",
    "The traditional example is the **Wumpus World**, where the agent has to explore a cave and find the gold without falling into a pit or being eaten by the Wumpus.  \n",
    "The agent can perceive different things in the cave:    \n",
    "- **stench**: there is a Wumpus in one of the adjacent rooms\n",
    "- **breeze**: there is a pit in one of the adjacent rooms\n",
    "- **glitter**: there is gold in the current room\n",
    "- **bump**: the agent has hit a wall\n",
    "- **scream**: the Wumpus has been killed\n",
    "These perceptions are given as a list of **percept symbols**.\n",
    "The agents then obtain a set of rewards and penalties:\n",
    "- **-1**: for each action taken\n",
    "- **-10000**: for falling into a pit or being eaten by the Wumpus\n",
    "- **+1000**: for grabbing the gold\n",
    "In this way we try to maximize the total reward while finding the fastest way out.\n",
    "The world is not fully observable, since the agent can only perceive the adjacent rooms, but is deterministic (you surely die in certain rooms).\n",
    "Is not episodic because we could continue to explore the cave forever.\n",
    "It's also static, since the world doesn't change while the agent is thinking.\n",
    "It's also discrete, since the agent can only perform a *finite number* (we can enumerate them) of actions.\n",
    "**Entailment** means that one thing follows from another, in our case a KB entails sentence $\\alpha$ if and only if that sentence is True in all the worlds where the Knowledge base KB is true.  \n",
    "For example, if we have the KB:\n",
    "- Alice is a parent of Bob.\n",
    "- Bob is a parent of Charlie.\n",
    "Then this KB entails that Alice is a grandparent of Charlie.  \n",
    "**Inference** is the process of deriving new sentences from old ones.\n",
    "Then we say that $m$ is a model of $\\alpha$ if and only if $\\alpha$ is true in $m$. $M(\\alpha)$ is the set of all models of $\\alpha$.  \n",
    "Then KB entails $\\alpha$ if and only if $M(KB) \\subseteq M(\\alpha)$."
   ]
  }
 ],
 "metadata": {
  "language_info": {
   "name": "python"
  }
 },
 "nbformat": 4,
 "nbformat_minor": 2
}
