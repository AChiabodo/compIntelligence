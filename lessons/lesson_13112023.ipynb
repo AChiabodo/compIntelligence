{
 "cells": [
  {
   "cell_type": "markdown",
   "metadata": {},
   "source": [
    "How to use evolutionary strategies into nim :\n",
    "- One possible way is to define a **set of rules** that defines some subset of situations, each rule has a weight associated with it. \n",
    "  The weights are optimized by the evolutionary strategy and define the probability of the linked rule. \n",
    "  Here we're translating the game into a set of rules (that needs to be defined) and a set of weights to optimize.\n",
    "  To learn the weights we can use a \"simulation\" of the game, where we play against a random player.\n",
    "  The fitness function is the number of games won (percentage) against the random player -> we're not evaluating the single move but the whole game. To avoid plateau in the fitness we need a random player that is neither too bad nor too good.\n",
    "The genome here is everything needed from the algorithm to play (and win) the game. The phenotype is the set of rules and the weights associated with them.\n",
    "We can add to the phenotype (rules) particular cases like \"if we have an odd number of stones and the opponent has an even number of stones we can win\" -> this is a particular case of the nimSum rule.\n",
    "In this case we've an optimal player that can show us the maximum that our algorithm can achieve.\n",
    "We can also define a \"special\" rule that uses the nimSum to achieve particular moves (es to win from a certain status). Could be interesting to see if our algorithm converge and find this rule by itself.\n",
    "\n",
    "### Causality and \n",
    "We're working on the genotype and are able to evaluate only the fitness, that's our only way to \"see\" our changes and choose the way to follow.\n",
    "By the \"locality principle\" also called (strong or weak) causality : if a little change in the genotype produces a big change in the fitness that's strong causality, if a little change in the genotype produces a little change in the fitness that's weak causality.\n",
    "We can use the locality principle to define the mutation rate, if we've strong causality we can use a small mutation rate, if we've weak causality we can use a big mutation rate.\n",
    "Infeasible solution : is a solution that cannot be evaluated (for example a solution that has a different encoding from the one we're using). We decide which solutions are unfeasible when we define the fitness and the encoding (for example a bad fitness for set-covering is uncapable to evaluate non-covering solutions).\n",
    "\n",
    "Try to find one case where we can use ES - Evolution Strategies - and not SA - Simulated Annealing - (and viceversa).\n",
    "Evolution stategies works **only with FP numbers** and not integer points numbers (a solution is to map all the numbers to int - but there are problems with fitness). (? - check if it's true)\n",
    "Evolution strategies are good when we've a **big number of parameters** to optimize (for example 1000 parameters) and we can't use gradient descent (because we don't have a function to optimize).\n",
    "\n",
    "John Holland : \"Adaptation in Natural and Artificial Systems\" -> the book that started the field of evolutionary computation.\n",
    "John Holland \"Royal road\" : the idea is that we can define a set of rules that are good for a particular problem and use them to solve it. The problem is that we need to define the rules and that's not always easy.\n",
    "Problem of one-cut crossover : if we have a solution with a really good gene, we've an high probability that also near genes (not so optimal) could be selected along the good gene -> it's called \"genetic hitchhiker\" (see on wikipedia).\n",
    "introns : non-coding genetic material  \n",
    "\n",
    "Genetic Programming -> Genetic Programming : on the programming of computers by means of natural selection (John Koza) -> we can use genetic programming to evolve programs (for example to play a game). The problem is that we need to define the language and the grammar of the language (and that's not always easy).\n",
    "Now is used mainly in research and in ML-like applications -> symbolic regression (we've a set of data and we want to find a function that fits the data). We can use genetic programming to find the function that fits the data. Now it's almost taken over by neural networks."
   ]
  }
 ],
 "metadata": {
  "language_info": {
   "name": "python"
  }
 },
 "nbformat": 4,
 "nbformat_minor": 2
}
