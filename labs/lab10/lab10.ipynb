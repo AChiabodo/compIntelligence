{
 "cells": [
  {
   "cell_type": "markdown",
   "metadata": {},
   "source": [
    "Copyright **`(c)`** 2023 Giovanni Squillero `<giovanni.squillero@polito.it>`  \n",
    "[`https://github.com/squillero/computational-intelligence`](https://github.com/squillero/computational-intelligence)  \n",
    "Free for personal or classroom use; see [`LICENSE.md`](https://github.com/squillero/computational-intelligence/blob/master/LICENSE.md) for details.  "
   ]
  },
  {
   "cell_type": "markdown",
   "metadata": {},
   "source": [
    "# LAB10\n",
    "\n",
    "Use reinforcement learning to devise a tic-tac-toe player.\n",
    "\n",
    "### Deadlines:\n",
    "\n",
    "* Submission: Sunday, December 17 ([CET](https://www.timeanddate.com/time/zones/cet))\n",
    "* Reviews: Dies Natalis Solis Invicti ([CET](https://en.wikipedia.org/wiki/Sol_Invictus))\n",
    "\n",
    "Notes:\n",
    "\n",
    "* Reviews will be assigned  on Monday, December 4\n",
    "* You need to commit in order to be selected as a reviewer (ie. better to commit an empty work than not to commit)"
   ]
  },
  {
   "cell_type": "code",
   "execution_count": 228,
   "metadata": {},
   "outputs": [],
   "source": [
    "import numpy as np\n",
    "from collections import namedtuple"
   ]
  },
  {
   "cell_type": "markdown",
   "metadata": {},
   "source": [
    "[4,9,2]\n",
    "[3,5,7]\n",
    "[8,1,6]"
   ]
  },
  {
   "cell_type": "code",
   "execution_count": 229,
   "metadata": {},
   "outputs": [],
   "source": [
    "Tikly = namedtuple(\"Tikly\", \"row, column\")\n",
    "\n",
    "class TikTakToe():\n",
    "    def __init__(self):\n",
    "        self.board = np.zeros(9)\n",
    "        self.mask = np.array([4,9,2,3,5,7,8,1,6])\n",
    "        self.player = 1\n",
    "        self.winner = None\n",
    "\n",
    "    def move(self, position : Tikly) -> bool:\n",
    "        position = position.row * 3 + position.column\n",
    "        if self.board[position] == 0:\n",
    "            self.board[position] = self.player #* self.mask[position]\n",
    "            self.player = -self.player\n",
    "            return True\n",
    "        else:\n",
    "            return False\n",
    "\n",
    "    def possible_moves(self) -> list:\n",
    "        return [Tikly(i//3, i%3) for i in range(9) if self.board[i] == 0]\n",
    "\n",
    "    def check_finished(self) -> bool:\n",
    "        if np.sum(self.board == 0) == 0 or self.check_winner() != 0:\n",
    "            return True\n",
    "        else:\n",
    "            return False \n",
    "\n",
    "    def check_winner(self) -> int:\n",
    "        board = self.board.reshape(3,3)\n",
    "        for i in range(3):\n",
    "            if np.sum(board[i,:]) == 3 or np.sum(board[:,i]) == 3:\n",
    "                return 1\n",
    "            elif np.sum(board[i,:]) == -3 or np.sum(board[:,i]) == -3:\n",
    "                return -1\n",
    "        if np.sum(np.diag(board)) == 3 or np.sum(np.diag(np.fliplr(board))) == 3:\n",
    "            return 1\n",
    "        elif np.sum(np.diag(board)) == -3 or np.sum(np.diag(np.fliplr(board))) == -3:\n",
    "            return -1\n",
    "        else:\n",
    "            return 0        \n",
    "\n",
    "    def __str__(self):\n",
    "        return f\"Player to move : {self.player}\"+ \"\\n\" + str(self.board.reshape(3,3))\n",
    "    \n",
    "    def __repr__(self):\n",
    "        return str(self.board)"
   ]
  },
  {
   "cell_type": "code",
   "execution_count": 230,
   "metadata": {},
   "outputs": [],
   "source": [
    "class Player():\n",
    "    def __init__(self, k : int = None):\n",
    "        self.k = k\n",
    "\n",
    "    def play(self,board : np.array) -> Tikly :\n",
    "        pass"
   ]
  },
  {
   "cell_type": "code",
   "execution_count": 231,
   "metadata": {},
   "outputs": [],
   "source": [
    "class RandomPlayer(Player):\n",
    "    def __init__(self):\n",
    "        super().__init__()\n",
    "\n",
    "    def play(self, board : TikTakToe) -> Tikly:\n",
    "        possible_moves = board.possible_moves()\n",
    "        move = possible_moves[np.random.randint(len(possible_moves))]\n",
    "        return move"
   ]
  },
  {
   "cell_type": "code",
   "execution_count": 232,
   "metadata": {},
   "outputs": [],
   "source": [
    "class HumanPlayer(Player):\n",
    "    def __init__(self):\n",
    "        super().__init__()\n",
    "\n",
    "    def play(self, board : TikTakToe) -> Tikly:\n",
    "        possible_moves = board.possible_moves()\n",
    "        print(\"Possible moves : \", possible_moves)\n",
    "        row = input(\"Row : \")\n",
    "        column = input(\"Column : \")\n",
    "        move = Tikly(row, column)\n",
    "        return move"
   ]
  },
  {
   "cell_type": "code",
   "execution_count": 233,
   "metadata": {},
   "outputs": [
    {
     "name": "stdout",
     "output_type": "stream",
     "text": [
      "(array([0, 1, 2, 3, 4, 5, 6, 7, 8]),)\n"
     ]
    }
   ],
   "source": [
    "board = TikTakToe()\n",
    "possible_moves = np.where(board.board == 0)\n",
    "print(possible_moves)"
   ]
  },
  {
   "cell_type": "code",
   "execution_count": 234,
   "metadata": {},
   "outputs": [
    {
     "name": "stdout",
     "output_type": "stream",
     "text": [
      "(array([0, 1, 2, 3, 4, 5, 6, 7, 8]),)\n"
     ]
    }
   ],
   "source": [
    "board = TikTakToe()\n",
    "possible_moves = np.where(board.board == 0)\n",
    "print(possible_moves)"
   ]
  },
  {
   "cell_type": "code",
   "execution_count": 235,
   "metadata": {},
   "outputs": [
    {
     "data": {
      "text/plain": [
       "1"
      ]
     },
     "execution_count": 235,
     "metadata": {},
     "output_type": "execute_result"
    }
   ],
   "source": [
    "board = TikTakToe()\n",
    "board.move(Tikly(0,0))\n",
    "board.move(Tikly(1,1))\n",
    "board.move(Tikly(0,1))\n",
    "board.move(Tikly(1,2))\n",
    "board.move(Tikly(0,2))\n",
    "board.check_winner()"
   ]
  },
  {
   "cell_type": "code",
   "execution_count": 236,
   "metadata": {},
   "outputs": [
    {
     "name": "stdout",
     "output_type": "stream",
     "text": [
      "Player to move : -1\n",
      "[[0. 0. 1.]\n",
      " [0. 0. 0.]\n",
      " [0. 0. 0.]]\n",
      "Player to move : 1\n",
      "[[ 0.  0.  1.]\n",
      " [ 0.  0. -1.]\n",
      " [ 0.  0.  0.]]\n",
      "Player to move : -1\n",
      "[[ 0.  0.  1.]\n",
      " [ 0.  1. -1.]\n",
      " [ 0.  0.  0.]]\n",
      "Player to move : 1\n",
      "[[ 0.  0.  1.]\n",
      " [ 0.  1. -1.]\n",
      " [ 0. -1.  0.]]\n",
      "Player to move : -1\n",
      "[[ 0.  1.  1.]\n",
      " [ 0.  1. -1.]\n",
      " [ 0. -1.  0.]]\n",
      "Player to move : 1\n",
      "[[ 0.  1.  1.]\n",
      " [-1.  1. -1.]\n",
      " [ 0. -1.  0.]]\n",
      "Player to move : -1\n",
      "[[ 0.  1.  1.]\n",
      " [-1.  1. -1.]\n",
      " [ 0. -1.  1.]]\n",
      "Player to move : 1\n",
      "[[-1.  1.  1.]\n",
      " [-1.  1. -1.]\n",
      " [ 0. -1.  1.]]\n",
      "Player to move : -1\n",
      "[[-1.  1.  1.]\n",
      " [-1.  1. -1.]\n",
      " [ 1. -1.  1.]]\n",
      "Winner Winner : player 1\n"
     ]
    }
   ],
   "source": [
    "board = TikTakToe()\n",
    "player = [RandomPlayer(), RandomPlayer()]\n",
    "i = 0\n",
    "while not board.check_winner():\n",
    "    board.move(player[i].play(board))\n",
    "    i = 1 - i\n",
    "    print(board)\n",
    "print(f\"Winner Winner : player {(board.check_winner() + 1)//2}\" )"
   ]
  }
 ],
 "metadata": {
  "kernelspec": {
   "display_name": "ci-fLJ3OwGs-py3.12",
   "language": "python",
   "name": "python3"
  },
  "language_info": {
   "codemirror_mode": {
    "name": "ipython",
    "version": 3
   },
   "file_extension": ".py",
   "mimetype": "text/x-python",
   "name": "python",
   "nbconvert_exporter": "python",
   "pygments_lexer": "ipython3",
   "version": "3.10.12"
  }
 },
 "nbformat": 4,
 "nbformat_minor": 2
}
