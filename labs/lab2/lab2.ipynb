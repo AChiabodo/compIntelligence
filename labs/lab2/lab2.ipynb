{
 "cells": [
  {
   "cell_type": "markdown",
   "metadata": {},
   "source": [
    "Copyright **`(c)`** 2023 Alessandro Chiabodo `<s309234@studenti.polito.it>`  \n",
    "[`https://github.com/AChiabodo/compIntelligence`](https://github.com/AChiabodo/compIntelligence)  \n",
    "Free for personal use;\n"
   ]
  },
  {
   "cell_type": "markdown",
   "metadata": {},
   "source": [
    "## LAB 2 - Nim\n",
    "\n",
    "## Task\n",
    "\n",
    "Write agents able to play [*Nim*](https://en.wikipedia.org/wiki/Nim), with an arbitrary number of rows and an upper bound $k$ on the number of objects that can be removed in a turn (a.k.a., *subtraction game*).\n",
    "\n",
    "The goal of the game is to **avoid** taking the last object.\n",
    "\n",
    "* Task2.1: An agent using fixed rules based on *nim-sum* (i.e., an *expert system*)\n",
    "* Task2.2: An agent using evolved rules using ES\n",
    "\n",
    "### Notes\n",
    "The nim-sum can be used to \"test\" our algorithm given that it provides the \"best\" move to do in a given state. It should NOT be part of our algorithm, but it can be used to test it."
   ]
  },
  {
   "cell_type": "code",
   "execution_count": null,
   "metadata": {},
   "outputs": [],
   "source": [
    "import logging\n",
    "from pprint import pprint, pformat\n",
    "from collections import namedtuple\n",
    "import random\n",
    "from copy import deepcopy\n",
    "from itertools import product\n",
    "import pickle\n",
    "import math\n",
    "import numpy as np"
   ]
  },
  {
   "cell_type": "code",
   "execution_count": null,
   "metadata": {},
   "outputs": [],
   "source": [
    "Nimply = namedtuple(\"Nimply\", \"row, num_objects\")\n",
    "\n",
    "class Nim:\n",
    "    def __init__(self, num_rows: int, k: int = None) -> None:\n",
    "        self._rows = [i * 2 + 1 for i in range(num_rows)]\n",
    "        self._k = k\n",
    "\n",
    "    def __bool__(self):\n",
    "        return sum(self._rows) > 0\n",
    "\n",
    "    def __str__(self):\n",
    "        return \"<\" + \" \".join(str(_) for _ in self._rows) + \">\"\n",
    "\n",
    "    def non_zero_rows(self) -> list:\n",
    "        return [True if x != 0 else False for x in self.rows]\n",
    "\n",
    "    @property\n",
    "    def rows(self) -> tuple:\n",
    "        return tuple(self._rows)\n",
    "\n",
    "    def nimming(self, ply: Nimply) -> None:\n",
    "        #print(f\"nimming {ply}\")\n",
    "        row, num_objects = ply\n",
    "        assert self._rows[row] >= num_objects\n",
    "        assert self._k is None or num_objects <= self._k\n",
    "        self._rows[row] -= num_objects"
   ]
  },
  {
   "cell_type": "code",
   "execution_count": null,
   "metadata": {},
   "outputs": [],
   "source": [
    "def generate_lists(numbers):\n",
    "    n = len(numbers)\n",
    "\n",
    "    all_combinations = list(product(range(0, max(numbers) + 1), repeat=n))\n",
    "\n",
    "    valid_combinations = [list(combination) for combination in all_combinations if all(x <= y for x, y in zip(combination, numbers))]\n",
    "    \n",
    "    return valid_combinations[1:] #avoid the full zeros solution\n",
    "\n",
    "def random_moves(states : list,k : int = None) -> dict: \n",
    "    rules = dict()\n",
    "    for state in states:\n",
    "        if k is None:\n",
    "            rules[tuple(state)] = random.choice([(r, o) for r, c in enumerate(state) for o in range(1, c + 1)])\n",
    "        else:\n",
    "            rules[tuple(state)] = random.choice([(r, o) for r, c in enumerate(state) for o in range(1, min(k, c) + 1)])\n",
    "    return rules"
   ]
  },
  {
   "cell_type": "markdown",
   "metadata": {},
   "source": [
    "### Player Interface"
   ]
  },
  {
   "cell_type": "code",
   "execution_count": null,
   "metadata": {},
   "outputs": [],
   "source": [
    "class Player():\n",
    "    def __init__(self, k):\n",
    "        self.k = k\n",
    "\n",
    "    def play(self,state : Nim) -> Nimply :\n",
    "        pass\n",
    "\n",
    "    def __str__(self):\n",
    "        return self.__class__.__name__\n",
    "    \n",
    "    def mutation(self,mutation_rate):\n",
    "        pass\n",
    "\n",
    "    def compute_fitness(self, state):\n",
    "        pass"
   ]
  },
  {
   "cell_type": "code",
   "execution_count": null,
   "metadata": {},
   "outputs": [],
   "source": [
    "def multiple_matches(player1 : Player,player2 : Player,matches = 100,game = Nim(5)):\n",
    "    wins = [0,0]\n",
    "    players = [player1,player2]\n",
    "    for _ in range(matches):\n",
    "        nim = deepcopy(game)\n",
    "        i = random.choice([0,1])\n",
    "        while nim :\n",
    "            ply = players[i].play(nim)\n",
    "            nim.nimming(ply)\n",
    "            i = 1 - i\n",
    "        wins[i] += 1\n",
    "    return wins"
   ]
  },
  {
   "cell_type": "code",
   "execution_count": null,
   "metadata": {},
   "outputs": [],
   "source": [
    "class RandomPlayer(Player):\n",
    "    def __init__(self,k) -> None:\n",
    "        super().__init__()\n",
    "    def play(self,state : Nim) -> Nimply :\n",
    "        \"\"\"A completely random move\"\"\"\n",
    "        row = random.choice([r for r, c in enumerate(state.rows) if c > 0])\n",
    "        num_objects = random.randint(1, state.rows[row])\n",
    "        return Nimply(row, num_objects)\n",
    "    \n",
    "class gabriele(Player):\n",
    "    def play(self,state : Nim) -> Nimply :\n",
    "        \"\"\"Pick always the maximum possible number of the lowest row\"\"\"\n",
    "        possible_moves = [(r, o) for r, c in enumerate(state.rows) for o in range(1, c + 1)]\n",
    "        return Nimply(*max(possible_moves, key=lambda m: (-m[0], m[1])))\n",
    "    "
   ]
  },
  {
   "cell_type": "code",
   "execution_count": 272,
   "metadata": {},
   "outputs": [],
   "source": [
    "class OptimalPlayer(Player):\n",
    "    def __init__(self,k: int = None) -> None:\n",
    "        self._k = k\n",
    "        \n",
    "    def nim_sum(self,state: Nim) -> int:\n",
    "        tmp = np.array([tuple(int(x) for x in f\"{c:032b}\") for c in state.rows])\n",
    "        xor = tmp.sum(axis=0) % 2\n",
    "        return int(\"\".join(str(_) for _ in xor), base=2)\n",
    "\n",
    "    def analize(self,raw: Nim) -> dict:\n",
    "        cooked = dict()\n",
    "        cooked[\"possible_moves\"] = dict()\n",
    "        for ply in (Nimply(r, o) for r, c in enumerate(raw.rows) for o in range(1, c + 1)):\n",
    "            logging.debug(f\"ply: {ply}\")\n",
    "            tmp = deepcopy(raw)\n",
    "            tmp.nimming(ply)\n",
    "            cooked[\"possible_moves\"][ply] = self.nim_sum(tmp)\n",
    "        return cooked\n",
    "\n",
    "    def play(self,state: Nim) -> Nimply:\n",
    "        analysis = self.analize(state)\n",
    "        logging.debug(f\"analysis:\\n{pformat(analysis)}\")\n",
    "        if self._k is None:\n",
    "            spicy_moves = [ply for ply, ns in analysis[\"possible_moves\"].items() if ns != 0]\n",
    "        else:\n",
    "            spicy_moves = [ply for ply, ns in analysis[\"possible_moves\"].items() if ns != 0 and ply[1] <= self._k]\n",
    "        if not spicy_moves:\n",
    "            spicy_moves = list(analysis[\"possible_moves\"].keys())\n",
    "        ply = random.choice(spicy_moves)\n",
    "        return ply"
   ]
  },
  {
   "cell_type": "code",
   "execution_count": 273,
   "metadata": {},
   "outputs": [
    {
     "data": {
      "text/plain": [
       "[71, 29]"
      ]
     },
     "execution_count": 273,
     "metadata": {},
     "output_type": "execute_result"
    }
   ],
   "source": [
    "multiple_matches(OptimalPlayer(k=3),RandomPlayer(),matches=100)"
   ]
  },
  {
   "cell_type": "code",
   "execution_count": null,
   "metadata": {},
   "outputs": [],
   "source": [
    "class RuleBasedPlayer(Player):\n",
    "    def non_zero_tuples(tup : tuple) -> list:\n",
    "        return [True if x != 0 else False for x in tup]\n",
    "\n",
    "    ### Trying to find some rules to play with at Nim\n",
    "    def play(self,state : Nim,debug_mode = False) -> Nimply:\n",
    "        rows = state.rows\n",
    "        num_rows = sum(state.non_zero_rows())\n",
    "        selected_row = None\n",
    "        selected_amount = None\n",
    "        if num_rows > 2 :\n",
    "            for i in range(len(rows)):\n",
    "                if rows[i] != 0 and (selected_amount is None or selected_amount > rows[i]):\n",
    "                    selected_amount = rows[i]\n",
    "                    selected_row = i\n",
    "            if debug_mode :\n",
    "                print(f\"Selected row: {selected_row}\")\n",
    "                print(f\"Selected amount: {selected_amount}\")\n",
    "            return Nimply(selected_row,selected_amount)\n",
    "        if num_rows == 2 :\n",
    "            for i in range(len(rows)):\n",
    "                if rows[i] == 1 :\n",
    "                    return Nimply(i,rows[i])\n",
    "                if rows[i] != 0 and (selected_amount is None or selected_amount > rows[i]):\n",
    "                    selected_amount = rows[i]\n",
    "                    selected_row = i\n",
    "            if debug_mode :\n",
    "                print(f\"Selected row: {selected_row}\")\n",
    "                print(f\"Selected amount: {selected_amount}\")\n",
    "            return Nimply(selected_row,selected_amount)\n",
    "        if num_rows == 1 :\n",
    "            for i in range(len(rows)):\n",
    "                if rows[i] != 0 :\n",
    "                    if debug_mode:\n",
    "                        print(f\"Selected row: {i}\")\n",
    "                        print(f\"Selected amount: {max(rows[i] - 1,1)}\")\n",
    "                    return Nimply(i,max(rows[i] - 1,1))"
   ]
  },
  {
   "cell_type": "code",
   "execution_count": 274,
   "metadata": {},
   "outputs": [],
   "source": [
    "class SimulativePlayer(Player):\n",
    "    def __init__(self,k: int = None) -> None:\n",
    "        self._k = k\n",
    "    def number_wins(self,state : Nim):\n",
    "        return multiple_matches(RandomPlayer(),RandomPlayer(),matches=10,game=state)[0]\n",
    "\n",
    "    def play(self,state : Nim) :\n",
    "        possible_moves = [(r, o) for r, c in enumerate(state.rows) for o in range(1, c + 1)]\n",
    "        best_move , best_sum = None, math.inf\n",
    "        for move in possible_moves:\n",
    "            if self._k is not None and move[1] > _k:\n",
    "                continue\n",
    "            tmp = deepcopy(state)\n",
    "            tmp.nimming(Nimply(*move))\n",
    "            tmp_sum = self.number_wins(tmp)\n",
    "            if (best_sum > tmp_sum and best_sum != 0) or best_move is None:\n",
    "                best_move, best_sum = move, tmp_sum\n",
    "        return Nimply(*best_move)"
   ]
  },
  {
   "cell_type": "code",
   "execution_count": null,
   "metadata": {},
   "outputs": [],
   "source": [
    "class PlayerNimStates(Player):\n",
    "\n",
    "    def __init__(self,rules : dict) -> None:\n",
    "        self.rules = rules\n",
    "        self.fitness = None\n",
    "\n",
    "    def play(self, state: Nim) -> Nimply:\n",
    "        return self.rules[state.rows]\n",
    "    \n",
    "    def mutation(self,mutation_rate):\n",
    "        for state in self.rules.keys():\n",
    "            if random.random() < mutation_rate :\n",
    "                self.rules[state] = random.choice([(r, o) for r, c in enumerate(state) for o in range(1, c + 1)])\n",
    "\n",
    "    def crossover(self,other : Player,other_weight = 0.5):\n",
    "        for state in self.rules.keys():\n",
    "            self.rules[state] = random.choices([self.rules[state],other.rules[state]],weights=[1-other_weight,other_weight])[0]\n",
    "\n",
    "    def compute_fitness(self, state):\n",
    "        self.fitness = 0\n",
    "        self.fitness += multiple_matches(self,RandomPlayer(),matches=25,game=state)[0]\n",
    "        self.fitness += multiple_matches(self,OptimalPlayer(),matches=25,game=state)[0]\n",
    "        self.fitness += multiple_matches(self,SimulativePlayer(),matches=25,game=state)[0]\n",
    "        self.fitness += multiple_matches(self,RuleBasedPlayer(),matches=25,game=state)[0]\n",
    "        return self.fitness\n",
    "    \n",
    "    def eval(self, state):\n",
    "        return multiple_matches(self,SimulativePlayer(),matches=100,game=state)[0]"
   ]
  },
  {
   "cell_type": "code",
   "execution_count": 244,
   "metadata": {},
   "outputs": [],
   "source": [
    "class TrainingPlayerNimStates():\n",
    "    def __init__(self, size : int , pop_size : int , lam : int = None , k : int = None) -> None:\n",
    "        self.state = Nim(size)\n",
    "        self.population = []\n",
    "        self.weights = []\n",
    "        self.ration = 0.8\n",
    "        self._k = k\n",
    "        if lam is None :\n",
    "            self.generation = self.generation_default\n",
    "        else :\n",
    "            self.generation = self.generation_lambda\n",
    "            self.lam = lam\n",
    "            self.temperature = 0.9\n",
    "        self.possible_states = generate_lists(list(self.state.rows))\n",
    "        self.init_population(pop_size)\n",
    "\n",
    "    def init_population(self, size : int) -> None:\n",
    "        print(\"Initializing population\")\n",
    "        for _ in range(size):\n",
    "            temp = PlayerNimStates(random_moves(self.possible_states,self._k))\n",
    "            temp.compute_fitness(self.state)\n",
    "            self.population.append(temp)\n",
    "\n",
    "    def generation_default(self) -> None:\n",
    "        for _ in range(len(self.population)):\n",
    "            n = random.random()\n",
    "            temp = deepcopy(random.choice(self.population))\n",
    "            if n > self.ration :\n",
    "                temp.crossover(random.choice(self.population))\n",
    "            else:\n",
    "                temp.mutation(0.1)\n",
    "            temp.compute_fitness(self.state)\n",
    "            self.population.append(temp)    \n",
    "        self.population.sort(key=lambda x : x.fitness , reverse=True)\n",
    "        self.population = self.population[:len(self.population)//2]\n",
    "        self.ration = 0.9 * self.ration\n",
    "\n",
    "    def generation_lambda(self) -> None:\n",
    "        parent = self.population.pop(random.randint(0,len(self.population)-1)) #purely random selection\n",
    "        temp_population = []\n",
    "        temp_population.append(parent)\n",
    "        for _ in range(self.lam):\n",
    "            temp = PlayerNimStates.mutation(parent,self.ration)\n",
    "            temp.fitness = temp.compute_fitness(self.state)\n",
    "            temp_population.append(temp)  \n",
    "        temp_population.sort(key=lambda x : x.fitness , reverse=True)\n",
    "        self.population.append(temp_population[0])  \n",
    "        self.population.sort(key=lambda x : x.fitness , reverse=True)\n",
    "        #self.population = self.population[:len(self.population)//2]\n",
    "        self.ration = self.temperature * self.ration\n",
    "\n",
    "    def train(self,epoch = 10):\n",
    "        for _ in range(epoch):\n",
    "            print(\"Generation : \",_)\n",
    "            self.generation_default()\n",
    "            print(self.population[0].eval(self.state) , self.population[0].fitness)\n",
    "        return self.population[0]"
   ]
  },
  {
   "cell_type": "code",
   "execution_count": null,
   "metadata": {},
   "outputs": [],
   "source": [
    "test_trainer = TrainingPlayerNimStates(4,40)"
   ]
  },
  {
   "cell_type": "code",
   "execution_count": null,
   "metadata": {},
   "outputs": [],
   "source": [
    "test_player = test_trainer.train(10)"
   ]
  },
  {
   "cell_type": "code",
   "execution_count": 245,
   "metadata": {},
   "outputs": [
    {
     "name": "stdout",
     "output_type": "stream",
     "text": [
      "Initializing population\n"
     ]
    }
   ],
   "source": [
    "lambda_trainer = TrainingPlayerNimStates(4,20,5)"
   ]
  },
  {
   "cell_type": "code",
   "execution_count": 246,
   "metadata": {},
   "outputs": [
    {
     "name": "stdout",
     "output_type": "stream",
     "text": [
      "Generation :  0\n",
      "48 63\n",
      "Generation :  1\n",
      "53 67\n",
      "Generation :  2\n",
      "55 73\n",
      "Generation :  3\n",
      "54 73\n",
      "Generation :  4\n",
      "58 73\n",
      "Generation :  5\n",
      "60 73\n",
      "Generation :  6\n",
      "59 73\n",
      "Generation :  7\n",
      "61 75\n",
      "Generation :  8\n",
      "65 83\n",
      "Generation :  9\n",
      "56 83\n"
     ]
    }
   ],
   "source": [
    "lambda_player = lambda_trainer.train(10)"
   ]
  },
  {
   "cell_type": "code",
   "execution_count": 258,
   "metadata": {},
   "outputs": [
    {
     "data": {
      "text/plain": [
       "[63, 37]"
      ]
     },
     "execution_count": 258,
     "metadata": {},
     "output_type": "execute_result"
    }
   ],
   "source": [
    "multiple_matches(lambda_player,OptimalPlayer(),matches=100,game=Nim(4))"
   ]
  }
 ],
 "metadata": {
  "kernelspec": {
   "display_name": ".venv",
   "language": "python",
   "name": "python3"
  },
  "language_info": {
   "codemirror_mode": {
    "name": "ipython",
    "version": 3
   },
   "file_extension": ".py",
   "mimetype": "text/x-python",
   "name": "python",
   "nbconvert_exporter": "python",
   "pygments_lexer": "ipython3",
   "version": "3.10.12"
  }
 },
 "nbformat": 4,
 "nbformat_minor": 2
}
