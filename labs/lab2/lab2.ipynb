{
 "cells": [
  {
   "cell_type": "markdown",
   "metadata": {},
   "source": [
    "Copyright **`(c)`** 2023 Alessandro Chiabodo `<s309234@studenti.polito.it>`  \n",
    "[`https://github.com/AChiabodo/compIntelligence`](https://github.com/AChiabodo/compIntelligence)  \n",
    "Free for personal use;\n"
   ]
  },
  {
   "cell_type": "markdown",
   "metadata": {},
   "source": [
    "## LAB 2 - Nim\n",
    "\n",
    "## Task\n",
    "\n",
    "Write agents able to play [*Nim*](https://en.wikipedia.org/wiki/Nim), with an arbitrary number of rows and an upper bound $k$ on the number of objects that can be removed in a turn (a.k.a., *subtraction game*).\n",
    "\n",
    "The goal of the game is to **avoid** taking the last object.\n",
    "\n",
    "* Task2.1: An agent using fixed rules based on *nim-sum* (i.e., an *expert system*)\n",
    "* Task2.2: An agent using evolved rules using ES\n",
    "\n",
    "### Notes\n",
    "The nim-sum can be used to \"test\" our algorithm given that it provides the \"best\" move to do in a given state. It should NOT be part of our algorithm, but it can be used to test it."
   ]
  },
  {
   "cell_type": "code",
   "execution_count": null,
   "metadata": {},
   "outputs": [],
   "source": [
    "import logging\n",
    "from pprint import pprint, pformat\n",
    "from collections import namedtuple\n",
    "import random\n",
    "from copy import deepcopy\n",
    "from itertools import product\n",
    "import pickle"
   ]
  },
  {
   "cell_type": "code",
   "execution_count": null,
   "metadata": {},
   "outputs": [],
   "source": [
    "Nimply = namedtuple(\"Nimply\", \"row, num_objects\")\n",
    "\n",
    "class Nim:\n",
    "    def __init__(self, num_rows: int, k: int = None) -> None:\n",
    "        self._rows = [i * 2 + 1 for i in range(num_rows)]\n",
    "        self._k = k\n",
    "\n",
    "    def __bool__(self):\n",
    "        return sum(self._rows) > 0\n",
    "\n",
    "    def __str__(self):\n",
    "        return \"<\" + \" \".join(str(_) for _ in self._rows) + \">\"\n",
    "\n",
    "    def non_zero_rows(self) -> list:\n",
    "        return [True if x != 0 else False for x in self.rows]\n",
    "\n",
    "    @property\n",
    "    def rows(self) -> tuple:\n",
    "        return tuple(self._rows)\n",
    "\n",
    "    def nimming(self, ply: Nimply) -> None:\n",
    "        row, num_objects = ply\n",
    "        assert self._rows[row] >= num_objects\n",
    "        assert self._k is None or num_objects <= self._k\n",
    "        self._rows[row] -= num_objects"
   ]
  },
  {
   "cell_type": "code",
   "execution_count": null,
   "metadata": {},
   "outputs": [],
   "source": [
    "def generate_lists(numbers):\n",
    "    n = len(numbers)\n",
    "\n",
    "    all_combinations = list(product(range(0, max(numbers) + 1), repeat=n))\n",
    "\n",
    "    valid_combinations = [list(combination) for combination in all_combinations if all(x <= y for x, y in zip(combination, numbers))]\n",
    "    \n",
    "    return valid_combinations[1:] #avoid the full zeros solution"
   ]
  },
  {
   "cell_type": "code",
   "execution_count": null,
   "metadata": {},
   "outputs": [],
   "source": [
    "class Player():\n",
    "    def play(self,state : Nim) -> Nimply :\n",
    "        pass\n",
    "\n",
    "    def __str__(self):\n",
    "        return self.__class__.__name__\n",
    "    \n",
    "    def mutation(self,mutation_rate):\n",
    "        pass\n",
    "\n",
    "    def compute_fitness(self, state):\n",
    "        pass"
   ]
  },
  {
   "cell_type": "code",
   "execution_count": null,
   "metadata": {},
   "outputs": [],
   "source": [
    "def multiple_matches(player1 : Player,player2 : Player,matches = 100,size = 5):\n",
    "    wins = [0,0]\n",
    "    players = [player1,player2]\n",
    "    for _ in range(matches):\n",
    "        nim = Nim(size)\n",
    "        i = random.choice([0,1])\n",
    "        while nim :\n",
    "            ply = players[i].play(nim)\n",
    "            nim.nimming(ply)\n",
    "            i = 1 - i\n",
    "        wins[i] += 1\n",
    "    return wins"
   ]
  },
  {
   "cell_type": "code",
   "execution_count": null,
   "metadata": {},
   "outputs": [],
   "source": [
    "class PlayerNimStates(Player):\n",
    "\n",
    "    def __init__(self,rules : dict) -> None:\n",
    "        self.rules = rules\n",
    "        self.fitness = None\n",
    "\n",
    "    def play(self, state: Nim) -> Nimply:\n",
    "        return self.rules[state.rows]\n",
    "    \n",
    "    def mutation(self,mutation_rate):\n",
    "        for state in self.rules.keys():\n",
    "            if random.random() < mutation_rate :\n",
    "                self.rules[state] = random.choice([(r, o) for r, c in enumerate(state) for o in range(1, c + 1)])"
   ]
  }
 ],
 "metadata": {
  "kernelspec": {
   "display_name": ".venv",
   "language": "python",
   "name": "python3"
  },
  "language_info": {
   "name": "python",
   "version": "3.10.12"
  }
 },
 "nbformat": 4,
 "nbformat_minor": 2
}
