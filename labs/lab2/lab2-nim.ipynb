{
 "cells": [
  {
   "cell_type": "markdown",
   "metadata": {
    "pycharm": {
     "name": "#%% md\n"
    }
   },
   "source": [
    "Copyright **`(c)`** 2022 Giovanni Squillero `<squillero@polito.it>`  \n",
    "[`https://github.com/squillero/computational-intelligence`](https://github.com/squillero/computational-intelligence)  \n",
    "Free for personal or classroom use; see [`LICENSE.md`](https://github.com/squillero/computational-intelligence/blob/master/LICENSE.md) for details.  \n"
   ]
  },
  {
   "cell_type": "markdown",
   "metadata": {
    "pycharm": {
     "name": "#%%\n"
    }
   },
   "source": [
    "# Lab 3: ES\n",
    "\n",
    "## Task\n",
    "\n",
    "Write agents able to play [*Nim*](https://en.wikipedia.org/wiki/Nim), with an arbitrary number of rows and an upper bound $k$ on the number of objects that can be removed in a turn (a.k.a., *subtraction game*).\n",
    "\n",
    "The goal of the game is to **avoid** taking the last object.\n",
    "\n",
    "* Task2.1: An agent using fixed rules based on *nim-sum* (i.e., an *expert system*)\n",
    "* Task2.2: An agent using evolved rules using ES\n",
    "\n",
    "## Instructions\n",
    "\n",
    "* Create the directory `lab2` inside the course repo \n",
    "* Put a `README.md` and your solution (all the files, code and auxiliary data if needed)\n",
    "\n",
    "## Notes\n",
    "\n",
    "* Working in group is not only allowed, but recommended (see: [Ubuntu](https://en.wikipedia.org/wiki/Ubuntu_philosophy) and [Cooperative Learning](https://files.eric.ed.gov/fulltext/EJ1096789.pdf)). Collaborations must be explicitly declared in the `README.md`.\n",
    "* [Yanking](https://www.emacswiki.org/emacs/KillingAndYanking) from the internet is allowed, but sources must be explicitly declared in the `README.md`.\n",
    "\n"
   ]
  },
  {
   "cell_type": "code",
   "execution_count": null,
   "metadata": {},
   "outputs": [],
   "source": [
    "import logging\n",
    "from pprint import pprint, pformat\n",
    "from collections import namedtuple\n",
    "import random\n",
    "from copy import deepcopy\n"
   ]
  },
  {
   "cell_type": "markdown",
   "metadata": {},
   "source": [
    "## The *Nim* and *Nimply* classes"
   ]
  },
  {
   "cell_type": "code",
   "execution_count": null,
   "metadata": {},
   "outputs": [],
   "source": [
    "Nimply = namedtuple(\"Nimply\", \"row, num_objects\")\n"
   ]
  },
  {
   "cell_type": "code",
   "execution_count": null,
   "metadata": {},
   "outputs": [],
   "source": [
    "class Nim:\n",
    "    def __init__(self, num_rows: int, k: int = None) -> None:\n",
    "        self._rows = [i * 2 + 1 for i in range(num_rows)]\n",
    "        self._k = k\n",
    "\n",
    "    def __bool__(self):\n",
    "        return sum(self._rows) > 0\n",
    "\n",
    "    def __str__(self):\n",
    "        return \"<\" + \" \".join(str(_) for _ in self._rows) + \">\"\n",
    "\n",
    "    @property\n",
    "    def rows(self) -> tuple:\n",
    "        return tuple(self._rows)\n",
    "\n",
    "    def nimming(self, ply: Nimply) -> None:\n",
    "        row, num_objects = ply\n",
    "        assert self._rows[row] >= num_objects\n",
    "        assert self._k is None or num_objects <= self._k\n",
    "        self._rows[row] -= num_objects\n"
   ]
  },
  {
   "cell_type": "markdown",
   "metadata": {},
   "source": [
    "## Sample (and silly) startegies "
   ]
  },
  {
   "cell_type": "code",
   "execution_count": null,
   "metadata": {},
   "outputs": [],
   "source": [
    "def pure_random(state: Nim) -> Nimply:\n",
    "    \"\"\"A completely random move\"\"\"\n",
    "    row = random.choice([r for r, c in enumerate(state.rows) if c > 0])\n",
    "    num_objects = random.randint(1, state.rows[row])\n",
    "    return Nimply(row, num_objects)\n"
   ]
  },
  {
   "cell_type": "code",
   "execution_count": null,
   "metadata": {},
   "outputs": [],
   "source": [
    "def gabriele(state: Nim) -> Nimply:\n",
    "    \"\"\"Pick always the maximum possible number of the lowest row\"\"\"\n",
    "    possible_moves = [(r, o) for r, c in enumerate(state.rows) for o in range(1, c + 1)]\n",
    "    return Nimply(*max(possible_moves, key=lambda m: (-m[0], m[1])))\n"
   ]
  },
  {
   "cell_type": "code",
   "execution_count": null,
   "metadata": {},
   "outputs": [],
   "source": [
    "import math\n",
    "import numpy as np\n",
    "\n",
    "def fitness(state: Nim) -> int:\n",
    "    tmp = np.array([tuple(int(x) for x in f\"{c:032b}\") for c in state.rows])\n",
    "    xor = tmp.sum(axis=0) % 2\n",
    "    return int(\"\".join(str(_) for _ in xor), base=2)\n",
    "\n",
    "\n",
    "def adaptive(state: Nim) -> Nimply:\n",
    "    \"\"\"A strategy that can adapt its parameters\"\"\"\n",
    "    genome = {\"love_small\": 0.1}\n",
    "    \n",
    "\n",
    "def evolution(state: Nim) -> Nimply:\n",
    "    \"\"\" (1,lambda) evolution strategy \"\"\"\n",
    "    lambda_ = 10\n",
    "    possible_moves = [(r, o) for r, c in enumerate(state.rows) for o in range(1, c + 1)]\n",
    "    best_move , best_sum = None, math.inf\n",
    "    for _ in range(lambda_):\n",
    "        row, num_objects = random.choice(possible_moves)\n",
    "        tmp = deepcopy(state)\n",
    "        tmp.nimming(Nimply(row, num_objects))\n",
    "        tmp_sum = fitness(tmp)\n",
    "        if (best_sum > tmp_sum and best_sum != 0) or best_move is None:\n",
    "            best_move, best_sum = (row, num_objects), tmp_sum\n",
    "    return Nimply(*best_move)\n"
   ]
  },
  {
   "cell_type": "code",
   "execution_count": null,
   "metadata": {},
   "outputs": [],
   "source": [
    "import numpy as np\n",
    "\n",
    "\n",
    "def nim_sum(state: Nim) -> int:\n",
    "    tmp = np.array([tuple(int(x) for x in f\"{c:032b}\") for c in state.rows])\n",
    "    xor = tmp.sum(axis=0) % 2\n",
    "    return int(\"\".join(str(_) for _ in xor), base=2)\n",
    "\n",
    "\n",
    "def analize(raw: Nim) -> dict:\n",
    "    cooked = dict()\n",
    "    cooked[\"possible_moves\"] = dict()\n",
    "    for ply in (Nimply(r, o) for r, c in enumerate(raw.rows) for o in range(1, c + 1)):\n",
    "        logging.debug(f\"ply: {ply}\")\n",
    "        tmp = deepcopy(raw)\n",
    "        tmp.nimming(ply)\n",
    "        cooked[\"possible_moves\"][ply] = nim_sum(tmp)\n",
    "    return cooked\n",
    "\n",
    "\n",
    "def optimal(state: Nim) -> Nimply:\n",
    "    analysis = analize(state)\n",
    "    logging.debug(f\"analysis:\\n{pformat(analysis)}\")\n",
    "    spicy_moves = [ply for ply, ns in analysis[\"possible_moves\"].items() if ns != 0]\n",
    "    if not spicy_moves:\n",
    "        spicy_moves = list(analysis[\"possible_moves\"].keys())\n",
    "    ply = random.choice(spicy_moves)\n",
    "    return ply\n"
   ]
  },
  {
   "cell_type": "markdown",
   "metadata": {},
   "source": [
    "## Oversimplified match"
   ]
  },
  {
   "cell_type": "code",
   "execution_count": null,
   "metadata": {},
   "outputs": [],
   "source": [
    "#logging.getLogger().setLevel(logging.INFO)\n",
    "\n",
    "strategy = (gabriele, simulation_choice)\n",
    "player_wins = [0, 0]\n",
    "for i in range(100):\n",
    "    nim = Nim(7)\n",
    "    #logging.info(f\"init : {nim}\")\n",
    "    player = 0\n",
    "    while nim:\n",
    "        ply = strategy[player](nim)\n",
    "        #logging.info(f\"ply: player {player} plays {ply}\")\n",
    "        nim.nimming(ply)\n",
    "        #logging.info(f\"status: {nim}\")\n",
    "        player = 1 - player\n",
    "    player_wins[player] += 1\n",
    "print(player_wins)\n",
    "#logging.info(f\"status: Player {player} won!\")\n"
   ]
  },
  {
   "cell_type": "code",
   "execution_count": null,
   "metadata": {},
   "outputs": [],
   "source": [
    "def number_wins(state : Nim):\n",
    "    strategy = (pure_random, pure_random)\n",
    "    player_wins = [0, 0]\n",
    "    for i in range(10):\n",
    "        nim = deepcopy(state)\n",
    "        #logging.info(f\"init : {nim}\")\n",
    "        player = 0\n",
    "        while nim:\n",
    "            ply = strategy[player](nim)\n",
    "            #logging.info(f\"ply: player {player} plays {ply}\")\n",
    "            nim.nimming(ply)\n",
    "            #logging.info(f\"status: {nim}\")\n",
    "            player = 1 - player\n",
    "        player_wins[player] += 1\n",
    "    return player_wins[0]\n"
   ]
  },
  {
   "cell_type": "code",
   "execution_count": null,
   "metadata": {},
   "outputs": [],
   "source": [
    "def simulation_choice(state : Nim) :\n",
    "    possible_moves = [(r, o) for r, c in enumerate(state.rows) for o in range(1, c + 1)]\n",
    "    best_move , best_sum = None, math.inf\n",
    "    for move in possible_moves:\n",
    "        tmp = deepcopy(state)\n",
    "        tmp.nimming(Nimply(*move))\n",
    "        tmp_sum = number_wins(tmp)\n",
    "        if (best_sum > tmp_sum and best_sum != 0) or best_move is None:\n",
    "            best_move, best_sum = move, tmp_sum\n",
    "    return Nimply(*best_move)"
   ]
  },
  {
   "cell_type": "code",
   "execution_count": null,
   "metadata": {},
   "outputs": [],
   "source": [
    "nim = Nim(4)\n",
    "while nim :\n",
    "    possible_moves = [(r, o) for r, c in enumerate(nim.rows) for o in range(1, c + 1)]\n",
    "    ply = simulation_choice(nim)\n",
    "    nim.nimming(ply)\n",
    "    print(len(possible_moves))\n",
    "    input()"
   ]
  },
  {
   "cell_type": "code",
   "execution_count": 43,
   "metadata": {},
   "outputs": [],
   "source": [
    "class PlayerNim():\n",
    "    def __init__(self,weights,moves) -> None:\n",
    "        self.weights = weights\n",
    "        self.rules = dict()\n",
    "        self.moves = moves\n",
    "        \n",
    "        for i,move in enumerate(moves) :\n",
    "            self.rules[move] = self.weights[i]\n",
    "\n",
    "    def play(self,state : Nim) -> Nimply :\n",
    "        possible_moves = [(r, o) for r, c in enumerate(state.rows) for o in range(1, c + 1)]\n",
    "        best_move , best_sum = None, math.inf\n",
    "        for move in possible_moves:\n",
    "            tmp_sum = self.rules[move]\n",
    "            if best_sum > tmp_sum or best_move is None:\n",
    "                best_move, best_sum = move, tmp_sum\n",
    "        return Nimply(*best_move)\n",
    "    \n",
    "    @staticmethod\n",
    "    def crossover(player1,player2):\n",
    "        weights = []\n",
    "        for i in range(len(player1.weights)) :\n",
    "            weights.append(random.choice([player1.weights[i],player2.weights[i]]))\n",
    "        return PlayerNim(weights,player1.moves)\n",
    "    \n",
    "    @staticmethod\n",
    "    def mutation(player,mutation_rate):\n",
    "        weights = []\n",
    "        for i in range(len(player.weights)) :\n",
    "            if random.random() < mutation_rate :\n",
    "                weights.append(random.random())\n",
    "            else :\n",
    "                weights.append(player.weights[i])\n",
    "        return PlayerNim(weights,player.moves)\n",
    "\n",
    "    def fitness(self):\n",
    "        wins = [0,0]\n",
    "        for _ in range(100):\n",
    "            nim = Nim(4)\n",
    "            i = 0\n",
    "            while nim :\n",
    "                if i % 2 == 0:\n",
    "                    ply = self.play(nim)\n",
    "                else :\n",
    "                    ply = pure_random(nim)\n",
    "                nim.nimming(ply)\n",
    "                i = 1 - i\n",
    "            wins[i] += 1\n",
    "        return wins[0]\n",
    "        \n",
    "\n",
    "class TrainingPlayerNim():\n",
    "    def __init__(self, size : int) -> None:\n",
    "        self.state = Nim(size)\n",
    "        self.moves = [(r, o) for r, c in enumerate(self.state.rows) for o in range(1, c + 1)]\n",
    "        self.population = []\n",
    "        self.weights = []\n",
    "        self.init_population(20)\n",
    "\n",
    "    def init_population(self, size : int) -> None:\n",
    "        for _ in range(size):\n",
    "            self.population.append(PlayerNim([random.random() for _ in range(len(self.moves))],self.moves))\n",
    "\n",
    "    def generation(self) -> None:\n",
    "        self.population.sort(key=lambda x : x.fitness() , reverse=True)\n",
    "        self.population = self.population[:len(self.population)//2]\n",
    "        for _ in range(len(self.population)):\n",
    "            n = random.random()\n",
    "            if n < 0.5 :\n",
    "                self.population.append(PlayerNim.crossover(random.choice(self.population),random.choice(self.population)))\n",
    "            else:\n",
    "                self.population.append(PlayerNim.mutation(random.choice(self.population),0.1))\n",
    "\n",
    "    def train(self) :\n",
    "        for _ in range(40):\n",
    "            self.generation()\n",
    "            print(self.population[0].fitness())\n",
    "        \n",
    "            \n"
   ]
  },
  {
   "cell_type": "code",
   "execution_count": 44,
   "metadata": {},
   "outputs": [
    {
     "name": "stdout",
     "output_type": "stream",
     "text": [
      "53\n",
      "62\n",
      "65\n",
      "71\n",
      "75\n",
      "61\n",
      "68\n",
      "67\n",
      "80\n",
      "74\n"
     ]
    }
   ],
   "source": [
    "generation = TrainingPlayerNim(4)\n",
    "generation.train()\n"
   ]
  }
 ],
 "metadata": {
  "kernelspec": {
   "display_name": "Python 3.10.7 ('ci22-dPIXJ0_o-py3.10')",
   "language": "python",
   "name": "python3"
  },
  "language_info": {
   "codemirror_mode": {
    "name": "ipython",
    "version": 3
   },
   "file_extension": ".py",
   "mimetype": "text/x-python",
   "name": "python",
   "nbconvert_exporter": "python",
   "pygments_lexer": "ipython3",
   "version": "3.10.12"
  },
  "vscode": {
   "interpreter": {
    "hash": "10197e8e2f2aa67e2c349105091c77f4cd384fce4877865f002d9ec653f96bc0"
   }
  }
 },
 "nbformat": 4,
 "nbformat_minor": 2
}
