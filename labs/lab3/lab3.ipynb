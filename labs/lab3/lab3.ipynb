{
 "cells": [
  {
   "cell_type": "markdown",
   "metadata": {},
   "source": [
    "Copyright **`(c)`** 2023 Giovanni Squillero `<giovanni.squillero@polito.it>`  \n",
    "[`https://github.com/squillero/computational-intelligence`](https://github.com/squillero/computational-intelligence)  \n",
    "Free for personal or classroom use; see [`LICENSE.md`](https://github.com/squillero/computational-intelligence/blob/master/LICENSE.md) for details.  "
   ]
  },
  {
   "cell_type": "markdown",
   "metadata": {},
   "source": [
    "# LAB3\n",
    "\n",
    "Wrote a local-search algorithm (eg. an EA) able to solve the *Problem* instances 1, 2, 5, and 10 on a 1000-loci genomes, using a minimum number of fitness calls. That's all.\n",
    "\n",
    "### Deadlines:\n",
    "\n",
    "* Submission: Sunday, November 26 ([CET](https://www.timeanddate.com/time/zones/cet))\n",
    "* Reviews: Sunday, December 3 ([CET](https://www.timeanddate.com/time/zones/cet))\n",
    "\n",
    "Notes:\n",
    "\n",
    "* Reviews will be assigned  on Monday, November 27\n",
    "* You need to commit in order to be selected as a reviewer (ie. better to commit an empty work than not to commit)"
   ]
  },
  {
   "cell_type": "code",
   "execution_count": 1,
   "metadata": {},
   "outputs": [],
   "source": [
    "from random import choices\n",
    "\n",
    "import lab3_lib"
   ]
  },
  {
   "cell_type": "code",
   "execution_count": 2,
   "metadata": {},
   "outputs": [
    {
     "name": "stdout",
     "output_type": "stream",
     "text": [
      "10101100011101100001010111101001011100010111010011 : 0.711115558\n",
      "01001100010000111111000111000111110000010000111111 : 0.9115555578000001\n",
      "11110101001000111001111110010100100110111101111000 : 0.7133333357999999\n",
      "10110101000101001011101111111110100010101110111110 : 0.7111333556\n",
      "10010110011110101011100000001101110010101001101111 : 0.7111355577999999\n",
      "00001100010100101001110100001000000100111111101010 : 0.533355558\n",
      "11010101100010011011011001011110000111101000101001 : 0.7133335578\n",
      "00111010001101011000000111001010001010001011001101 : 0.7133557778\n",
      "01101010010011011101101000000101111111101001111000 : 0.7133335557999999\n",
      "10101101010100000000010101100101001101100011111010 : 0.7335555558\n",
      "10\n"
     ]
    }
   ],
   "source": [
    "fitness = lab3_lib.make_problem(10)\n",
    "for n in range(10):\n",
    "    ind = choices([0, 1], k = 50)\n",
    "    print(''.join(str(g) for g in ind), ':', fitness(ind))\n",
    "\n",
    "print(fitness.calls)"
   ]
  },
  {
   "cell_type": "code",
   "execution_count": null,
   "metadata": {},
   "outputs": [],
   "source": [
    "class AgentTraining():\n",
    "\n",
    "    class trainingType(Enum):\n",
    "        DEFAULT = 0\n",
    "        LAMBDA = 1\n",
    "        #TOURNAMENT = 2\n",
    "\n",
    "    def __init__(self, pop_size : int ) -> None:\n",
    "        pass\n",
    "\n",
    "    def init_population(self, size : int) -> None:\n",
    "        print(\"Initializing population\")\n",
    "        for _ in range(size):\n",
    "            temp = AgentGA()\n",
    "            temp.compute_fitness(self.state)\n",
    "            self.population.append(temp)\n",
    "\n",
    "    def generation_default(self) -> None:\n",
    "        for _ in range(len(self.population)):\n",
    "            n = random.random()\n",
    "            temp : Player = deepcopy(random.choice(self.population))\n",
    "            if n > self.ration :\n",
    "                temp.crossover(random.choice(self.population))\n",
    "            else:\n",
    "                temp.mutation(0.1)\n",
    "            temp.compute_fitness(self.state)\n",
    "            self.population.append(temp)    \n",
    "        self.population.sort(key=lambda x : x.fitness , reverse=True)\n",
    "        self.population = self.population[:len(self.population)//2]\n",
    "        self.ration = 0.9 * self.ration\n",
    "\n",
    "    def generation_lambda(self) -> None:\n",
    "        parents = []\n",
    "        # (mu,lambda) approach with lambda = mu for semplicity\n",
    "        for _ in range(self.lam): # Selecting parents randomly\n",
    "            parents.append(self.population.pop(random.randint(0,len(self.population)-1)) )\n",
    "        for parent in parents:\n",
    "            temp_population = []\n",
    "            temp_population.append(deepcopy(parent))\n",
    "            for _ in range(self.lam):\n",
    "                temp : Player = deepcopy(parent).mutation(self.ration)\n",
    "                temp.compute_fitness(self.state)\n",
    "                temp_population.append(temp)  \n",
    "            temp_population.sort(key=lambda x : x.fitness , reverse=True)\n",
    "            self.population.append(temp_population[0])  \n",
    "        self.population.sort(key=lambda x : x.fitness , reverse=True)\n",
    "        self.ration = self.temperature * self.ration\n",
    "\n",
    "    def train(self,epoch = 10):\n",
    "        fitness = []\n",
    "        avg_fitness = []\n",
    "        print(\"Starting Training\")\n",
    "        for _ in range(epoch):\n",
    "            print(\"Generation : \",_)\n",
    "            self.generation()\n",
    "            print(f\"Best fitness : {self.population[0].fitness} , eval : {self.population[0].eval(self.state)}\")\n",
    "            fitness.append(self.population[0].fitness)\n",
    "            avg_fitness.append(sum([x.fitness for x in self.population])/len(self.population))\n",
    "        return self.population[0] , fitness , avg_fitness"
   ]
  },
  {
   "cell_type": "code",
   "execution_count": null,
   "metadata": {},
   "outputs": [],
   "source": [
    "class Agent():\n",
    "    def __init__(self) -> None:\n",
    "        pass\n",
    "\n",
    "    def compute_fitness(self) -> None:\n",
    "        pass        \n"
   ]
  },
  {
   "cell_type": "code",
   "execution_count": null,
   "metadata": {},
   "outputs": [],
   "source": [
    "class AgentGA(Agent):\n",
    "\n",
    "    def __init__(self,rules : dict) -> None:\n",
    "        self.rules = rules\n",
    "        self.fitness = None\n",
    "\n",
    "    def mutation(self,mutation_rate) -> Agent:\n",
    "        for state in self.rules.keys():\n",
    "            if random.random() < mutation_rate :\n",
    "                self.rules[state] = random.choice([(r, o) for r, c in enumerate(state) for o in range(1, c + 1)])\n",
    "        return self\n",
    "\n",
    "    def crossover(self,other : Agent,other_weight = 0.5):\n",
    "        for state in self.rules.keys():\n",
    "            self.rules[state] = random.choices([self.rules[state],other.rules[state]],weights=[1-other_weight,other_weight])[0]\n",
    "\n",
    "    def compute_fitness(self, state):\n",
    "        pass\n",
    "\n",
    "    \n",
    "    def load_agent(self, path):\n",
    "        with open(path, 'rb') as f:\n",
    "            self.rules = pickle.load(f)\n",
    "        return self\n",
    "    \n",
    "    def save_agent(self, path):\n",
    "        with open(path, 'wb') as f:\n",
    "            pickle.dump(self.rules, f)"
   ]
  }
 ],
 "metadata": {
  "kernelspec": {
   "display_name": "ci-fLJ3OwGs-py3.12",
   "language": "python",
   "name": "python3"
  },
  "language_info": {
   "codemirror_mode": {
    "name": "ipython",
    "version": 3
   },
   "file_extension": ".py",
   "mimetype": "text/x-python",
   "name": "python",
   "nbconvert_exporter": "python",
   "pygments_lexer": "ipython3",
   "version": "3.10.12"
  }
 },
 "nbformat": 4,
 "nbformat_minor": 2
}
