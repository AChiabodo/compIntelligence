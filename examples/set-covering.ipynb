{
 "cells": [
  {
   "cell_type": "code",
   "execution_count": 14,
   "metadata": {},
   "outputs": [],
   "source": [
    "from collections import namedtuple\n",
    "import numpy as np\n",
    "from random import random\n",
    "from queue import PriorityQueue, SimpleQueue , LifoQueue\n",
    "from functools import reduce\n",
    "\n",
    "PROBLEM_SIZE = 10\n",
    "NUM_SETS = 16\n",
    "\n",
    "SETS = tuple([np.array([random() < .2 for _ in range(PROBLEM_SIZE)]) for _ in range(NUM_SETS)])\n",
    "\n",
    "State = namedtuple('State', ['taken', 'untaken'])\n",
    "\n",
    "def goal_check(state):\n",
    "    return np.all(reduce(np.logical_or,[SETS[i] for i in state.taken],  np.array([False for _ in range(PROBLEM_SIZE)]) ))"
   ]
  },
  {
   "cell_type": "markdown",
   "metadata": {},
   "source": [
    "A state is the set of elements taken + the set of element not taken\n",
    "one possible state => ({1,3,5} , {0,2,4,5,7})\n",
    "sets[i] for i in state[0] are the taken elements in our sets\n",
    "Then I need a way to test if the actual state is the goal one:\n",
    "    looking at the taken elements and then checking if we have take all the elements with a bitwise OR\n",
    "First of all we check if the problem is solvable"
   ]
  },
  {
   "cell_type": "code",
   "execution_count": 15,
   "metadata": {},
   "outputs": [],
   "source": [
    "assert goal_check(State(set(range(NUM_SETS)),set())), \"Goal check failed\""
   ]
  },
  {
   "cell_type": "markdown",
   "metadata": {},
   "source": [
    "Then we need to define the frontier and put the initial state"
   ]
  },
  {
   "cell_type": "code",
   "execution_count": 18,
   "metadata": {},
   "outputs": [
    {
     "name": "stdout",
     "output_type": "stream",
     "text": [
      "Found solution in 6567 iterations,  steps : (4)\n"
     ]
    }
   ],
   "source": [
    "frontier = SimpleQueue() ## Breadth first search\n",
    "#frontier = LifoQueue() ## Depth first search\n",
    "frontier.put(State(set(),set(range(NUM_SETS))))\n",
    "current_state = frontier.get()\n",
    "counter = 0\n",
    "while not goal_check(current_state):\n",
    "    counter += 1\n",
    "    for action in current_state.untaken:\n",
    "        new_state = State(current_state.taken.union({action}),current_state.untaken.difference({action}))\n",
    "        frontier.put(new_state)\n",
    "    current_state = frontier.get()\n",
    "assert goal_check(current_state), \"Goal check failed\"\n",
    "print(f\"Found solution in {format(counter)} iterations,  steps : ({len(current_state.taken)})\")"
   ]
  },
  {
   "cell_type": "markdown",
   "metadata": {},
   "source": [
    "Now write the REAL solution with working priority queue -> Dijkstra algorithm with smaller first"
   ]
  },
  {
   "cell_type": "markdown",
   "metadata": {},
   "source": [
    "Following, greedy solution based on the distance from the goal state"
   ]
  },
  {
   "cell_type": "code",
   "execution_count": 22,
   "metadata": {},
   "outputs": [
    {
     "name": "stdout",
     "output_type": "stream",
     "text": [
      "Found solution in 4 iterations,  steps : (4)\n"
     ]
    }
   ],
   "source": [
    "def distance(state):\n",
    "    return PROBLEM_SIZE - sum (\n",
    "        reduce(np.logical_or,[SETS[i] for i in state.taken], np.array([False for _ in range(PROBLEM_SIZE)]) ))\n",
    "\n",
    "frontier = PriorityQueue()\n",
    "state = State(set(),set(range(NUM_SETS)))\n",
    "frontier.put((distance(state),state))\n",
    "_ , current_state = frontier.get()\n",
    "counter = 0\n",
    "while not goal_check(current_state):\n",
    "    counter += 1\n",
    "    for action in current_state.untaken:\n",
    "        new_state = State(current_state.taken.union({action}),current_state.untaken.difference({action}))\n",
    "        frontier.put((distance(new_state),new_state))\n",
    "    _ , current_state = frontier.get()\n",
    "assert goal_check(current_state), \"Goal check failed\"\n",
    "print(f\"Found solution in {format(counter)} iterations,  steps : ({len(current_state.taken)})\")"
   ]
  }
 ],
 "metadata": {
  "kernelspec": {
   "display_name": ".virtual",
   "language": "python",
   "name": "python3"
  },
  "language_info": {
   "codemirror_mode": {
    "name": "ipython",
    "version": 3
   },
   "file_extension": ".py",
   "mimetype": "text/x-python",
   "name": "python",
   "nbconvert_exporter": "python",
   "pygments_lexer": "ipython3",
   "version": "3.10.12"
  },
  "orig_nbformat": 4
 },
 "nbformat": 4,
 "nbformat_minor": 2
}
